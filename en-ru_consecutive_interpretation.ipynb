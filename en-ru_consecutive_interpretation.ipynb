{
 "cells": [
  {
   "cell_type": "code",
   "execution_count": null,
   "metadata": {},
   "outputs": [],
   "source": [
    "!pip3 install sounddevice\n",
    "!pip3 install PyObjC\n",
    "!pip3 install scipy\n",
    "!pip3 install SpeechRecognition\n",
    "!pip3 install googletrans==3.1.0a0\n",
    "!pip3 install gTTS\n",
    "!pip3 install playsound"
   ]
  },
  {
   "cell_type": "code",
   "execution_count": null,
   "metadata": {},
   "outputs": [],
   "source": [
    "# Импорт библиотек\n",
    "import sounddevice as sd\n",
    "from scipy.io.wavfile import write\n",
    "import speech_recognition as sr\n",
    "from googletrans import Translator\n",
    "from gtts import gTTS\n",
    "from playsound import playsound"
   ]
  },
  {
   "cell_type": "code",
   "execution_count": null,
   "metadata": {},
   "outputs": [],
   "source": [
    "# Функции для модулей распознания речи и перевода\n",
    "def recognize_speech(audio_file_path):\n",
    "    recognizer = sr.Recognizer()\n",
    "    with sr.AudioFile(audio_file_path) as source:\n",
    "        audio_data = recognizer.record(source)\n",
    "        text = recognizer.recognize_google(audio_data)\n",
    "    return text\n",
    "\n",
    "\n",
    "def translate_text(text, target_language):\n",
    "    translator = Translator()\n",
    "    translation = translator.translate(text, dest=target_language)\n",
    "    return translation.text\n",
    "\n",
    "\n",
    "def speech_to_translation(audio_file_path, target_language):\n",
    "    recognized_text = recognize_speech(audio_file_path)\n",
    "    translated_text = translate_text(recognized_text, target_language)\n",
    "    return translated_text"
   ]
  },
  {
   "cell_type": "code",
   "execution_count": null,
   "metadata": {},
   "outputs": [],
   "source": [
    "# Настройки\n",
    "sd.default.dtype='int32', 'int32'\n",
    "fs = 44100  # Частота дискретизации звукового потока - 44,1 КГц\n",
    "seconds = 5  # Длительность записи (меняем по необходимости)"
   ]
  },
  {
   "cell_type": "code",
   "execution_count": null,
   "metadata": {},
   "outputs": [],
   "source": [
    "# Модуль записи (Запускаем, произносим текст по-английски и ждем,\n",
    "# пока закончится запись.)\n",
    "myrecording = sd.rec(int(seconds * fs), samplerate=fs, channels=1)\n",
    "sd.wait()\n",
    "write('audio/file.wav', fs, myrecording)"
   ]
  },
  {
   "cell_type": "code",
   "execution_count": null,
   "metadata": {},
   "outputs": [],
   "source": [
    "# Остальные модули\n",
    "# (Запускаем блок сразу после окончания работы модуля записи.)\n",
    "\n",
    "# Модули распознавания текста и перевода\n",
    "audio_file_path = 'audio/file.wav'\n",
    "translated_text = speech_to_translation(audio_file_path, target_language='ru')\n",
    "print(f'Translated Text: {translated_text}')\n",
    "\n",
    "# Модуль синтеза звука\n",
    "tts = gTTS(translated_text, lang='ru')\n",
    "tts.save('audio/translation.mp3')\n",
    "\n",
    "# Модуль воспроизведения звука\n",
    "playsound('audio/translation.mp3')"
   ]
  }
 ],
 "metadata": {
  "kernelspec": {
   "display_name": "Python 3",
   "language": "python",
   "name": "python3"
  },
  "language_info": {
   "codemirror_mode": {
    "name": "ipython",
    "version": 3
   },
   "file_extension": ".py",
   "mimetype": "text/x-python",
   "name": "python",
   "nbconvert_exporter": "python",
   "pygments_lexer": "ipython3",
   "version": "3.10.6"
  },
  "orig_nbformat": 4
 },
 "nbformat": 4,
 "nbformat_minor": 2
}
